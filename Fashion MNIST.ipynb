{
 "cells": [
  {
   "cell_type": "markdown",
   "metadata": {},
   "source": [
    "# CNN for Fashion-MNIST"
   ]
  },
  {
   "cell_type": "markdown",
   "metadata": {},
   "source": [
    "This project utilizes keras framework of python"
   ]
  },
  {
   "cell_type": "markdown",
   "metadata": {},
   "source": [
    "### Importing the required libraries"
   ]
  },
  {
   "cell_type": "code",
   "execution_count": 1,
   "metadata": {},
   "outputs": [
    {
     "name": "stderr",
     "output_type": "stream",
     "text": [
      "Using TensorFlow backend.\n"
     ]
    }
   ],
   "source": [
    "import numpy as np\n",
    "import pandas as pd\n",
    "import keras \n",
    "import matplotlib.pyplot as plt\n",
    "%matplotlib inline\n",
    "from keras.models import Sequential\n",
    "from keras.layers import Conv2D, MaxPooling2D, Dense, Dropout, Flatten"
   ]
  },
  {
   "cell_type": "code",
   "execution_count": 2,
   "metadata": {
    "collapsed": true
   },
   "outputs": [],
   "source": [
    "np.random.seed(5)"
   ]
  },
  {
   "cell_type": "code",
   "execution_count": 3,
   "metadata": {
    "collapsed": true
   },
   "outputs": [],
   "source": [
    "from pandas import read_csv"
   ]
  },
  {
   "cell_type": "markdown",
   "metadata": {},
   "source": [
    "### Loading the data from CSV files "
   ]
  },
  {
   "cell_type": "code",
   "execution_count": 4,
   "metadata": {
    "collapsed": true
   },
   "outputs": [],
   "source": [
    "train_file = 'fashion-mnist_train.csv' #data for train set\n",
    "test_file = 'fashion-mnist_test.csv'# data for test set"
   ]
  },
  {
   "cell_type": "code",
   "execution_count": 5,
   "metadata": {
    "collapsed": true
   },
   "outputs": [],
   "source": [
    "df_train = read_csv(train_file)\n",
    "df_test = read_csv(test_file)"
   ]
  },
  {
   "cell_type": "code",
   "execution_count": 6,
   "metadata": {
    "collapsed": true
   },
   "outputs": [],
   "source": [
    "ar = df_train.values"
   ]
  },
  {
   "cell_type": "code",
   "execution_count": 7,
   "metadata": {
    "collapsed": true
   },
   "outputs": [],
   "source": [
    "X_train = ar[:, 1:] \n",
    "Y_train = ar[:, 0] #since first row in the dataset belongs to the labels "
   ]
  },
  {
   "cell_type": "code",
   "execution_count": 8,
   "metadata": {},
   "outputs": [
    {
     "name": "stdout",
     "output_type": "stream",
     "text": [
      "(60000, 784)\n"
     ]
    }
   ],
   "source": [
    "print(X_train.shape)"
   ]
  },
  {
   "cell_type": "code",
   "execution_count": 9,
   "metadata": {},
   "outputs": [
    {
     "name": "stdout",
     "output_type": "stream",
     "text": [
      "(60000,)\n"
     ]
    }
   ],
   "source": [
    "print(Y_train.shape)"
   ]
  },
  {
   "cell_type": "code",
   "execution_count": 10,
   "metadata": {
    "collapsed": true
   },
   "outputs": [],
   "source": [
    "pixel_w = 28\n",
    "pixel_h = 28 #each image is of 28x28 pixels"
   ]
  },
  {
   "cell_type": "code",
   "execution_count": 11,
   "metadata": {
    "collapsed": true
   },
   "outputs": [],
   "source": [
    "X_train = X_train.reshape(X_train.shape[0], pixel_w, pixel_h, 1) # reshaping the flattened image values in square of 28x28"
   ]
  },
  {
   "cell_type": "code",
   "execution_count": 12,
   "metadata": {},
   "outputs": [
    {
     "name": "stdout",
     "output_type": "stream",
     "text": [
      "(60000, 28, 28, 1)\n"
     ]
    }
   ],
   "source": [
    "print(X_train.shape) "
   ]
  },
  {
   "cell_type": "code",
   "execution_count": 13,
   "metadata": {
    "collapsed": true
   },
   "outputs": [],
   "source": [
    "array = df_test.values "
   ]
  },
  {
   "cell_type": "code",
   "execution_count": 14,
   "metadata": {
    "collapsed": true
   },
   "outputs": [],
   "source": [
    "X_test = array[:, 1:]\n",
    "Y_test = array[:, 0]"
   ]
  },
  {
   "cell_type": "code",
   "execution_count": 15,
   "metadata": {},
   "outputs": [
    {
     "name": "stdout",
     "output_type": "stream",
     "text": [
      "(10000, 784)\n"
     ]
    }
   ],
   "source": [
    "print(X_test.shape)"
   ]
  },
  {
   "cell_type": "code",
   "execution_count": 16,
   "metadata": {},
   "outputs": [
    {
     "name": "stdout",
     "output_type": "stream",
     "text": [
      "(10000,)\n"
     ]
    }
   ],
   "source": [
    "print(Y_test.shape)"
   ]
  },
  {
   "cell_type": "code",
   "execution_count": 17,
   "metadata": {
    "collapsed": true
   },
   "outputs": [],
   "source": [
    "X_test = X_test.reshape(X_test.shape[0], pixel_w, pixel_h, 1)"
   ]
  },
  {
   "cell_type": "code",
   "execution_count": 18,
   "metadata": {},
   "outputs": [
    {
     "name": "stdout",
     "output_type": "stream",
     "text": [
      "(10000, 28, 28, 1)\n"
     ]
    }
   ],
   "source": [
    "print(X_test.shape)"
   ]
  },
  {
   "cell_type": "code",
   "execution_count": 19,
   "metadata": {
    "collapsed": true
   },
   "outputs": [],
   "source": [
    "input_shape = (pixel_w, pixel_h, 1)"
   ]
  },
  {
   "cell_type": "code",
   "execution_count": 20,
   "metadata": {
    "collapsed": true
   },
   "outputs": [],
   "source": [
    "X_train = X_train.astype('float32') #converting the RGB values in float type, the one accepted by CNNs"
   ]
  },
  {
   "cell_type": "code",
   "execution_count": 21,
   "metadata": {
    "collapsed": true
   },
   "outputs": [],
   "source": [
    "X_test = X_test.astype('float32')"
   ]
  },
  {
   "cell_type": "code",
   "execution_count": 22,
   "metadata": {
    "collapsed": true
   },
   "outputs": [],
   "source": [
    "X_train /= 255\n",
    "X_test /= 255   #to convert into percentage form "
   ]
  },
  {
   "cell_type": "code",
   "execution_count": 23,
   "metadata": {
    "collapsed": true
   },
   "outputs": [],
   "source": [
    "Y_train = keras.utils.to_categorical(Y_train, 10) # turning the labels into categorical binary form eg, Y having label as 2 caan represented  as 0010000000   "
   ]
  },
  {
   "cell_type": "code",
   "execution_count": 24,
   "metadata": {
    "collapsed": true
   },
   "outputs": [],
   "source": [
    "Y_test = keras.utils.to_categorical(Y_test, 10) #number of classes are 10"
   ]
  },
  {
   "cell_type": "markdown",
   "metadata": {},
   "source": [
    "### Building CNN using the Sequential model of Keras"
   ]
  },
  {
   "cell_type": "code",
   "execution_count": 25,
   "metadata": {},
   "outputs": [
    {
     "name": "stdout",
     "output_type": "stream",
     "text": [
      "Post Conolution layer: (None, 26, 26, 32)\n",
      "Post MaxPooling layer: (None, 13, 13, 32)\n",
      "Post Droput Layer: (None, 13, 13, 32)\n",
      "Post flatten: (None, 5408)\n",
      "Post Dense: (None, 128)\n",
      "Post softmax: (None, 10)\n"
     ]
    }
   ],
   "source": [
    "model = Sequential()\n",
    "model.add(Conv2D(32, kernel_size=(3,3), activation = 'relu', input_shape = input_shape)) #convolution layer- Using relu to make sure that  there are no negative values\n",
    "print(\"Post Conolution layer:\", model.output_shape)\n",
    "model.add(MaxPooling2D(pool_size = (2,2))) # Pooling layer\n",
    "print(\"Post MaxPooling layer:\", model.output_shape)\n",
    "model.add(Dropout(0.30)) #dropout Layer to avoid overfitting\n",
    "print(\"Post Droput Layer:\", model.output_shape)\n",
    "model.add(Flatten()) #fully connected layer 1\n",
    "print(\"Post flatten:\", model.output_shape)\n",
    "model.add(Dense(128, activation = 'relu', )) # fully connected layer 2\n",
    "print('Post Dense:', model.output_shape)\n",
    "model.add(Dense(10, activation = 'softmax')) # since data set has 10 labels\n",
    "print('Post softmax:' , model.output_shape)"
   ]
  },
  {
   "cell_type": "markdown",
   "metadata": {},
   "source": [
    "### Compiling the model "
   ]
  },
  {
   "cell_type": "code",
   "execution_count": 26,
   "metadata": {
    "collapsed": true
   },
   "outputs": [],
   "source": [
    "model.compile(loss = keras.losses.categorical_crossentropy, optimizer= keras.optimizers.Adadelta(), metrics = ['accuracy']) #since Adadelta is best recommended optimizer for images "
   ]
  },
  {
   "cell_type": "markdown",
   "metadata": {},
   "source": [
    "### Fitting the model"
   ]
  },
  {
   "cell_type": "code",
   "execution_count": 27,
   "metadata": {
    "collapsed": true
   },
   "outputs": [],
   "source": [
    "batch_size = 32\n",
    "epochs = 10"
   ]
  },
  {
   "cell_type": "code",
   "execution_count": 28,
   "metadata": {},
   "outputs": [
    {
     "name": "stdout",
     "output_type": "stream",
     "text": [
      "Train on 60000 samples, validate on 10000 samples\n",
      "Epoch 1/10\n",
      "60000/60000 [==============================] - 139s 2ms/step - loss: 0.4231 - acc: 0.8485 - val_loss: 0.3055 - val_acc: 0.8921\n",
      "Epoch 2/10\n",
      "60000/60000 [==============================] - 138s 2ms/step - loss: 0.2989 - acc: 0.8926 - val_loss: 0.2720 - val_acc: 0.9027\n",
      "Epoch 3/10\n",
      "60000/60000 [==============================] - 138s 2ms/step - loss: 0.2658 - acc: 0.9026 - val_loss: 0.2514 - val_acc: 0.9117\n",
      "Epoch 4/10\n",
      "60000/60000 [==============================] - 139s 2ms/step - loss: 0.2425 - acc: 0.9126 - val_loss: 0.2389 - val_acc: 0.9134\n",
      "Epoch 5/10\n",
      "60000/60000 [==============================] - 139s 2ms/step - loss: 0.2237 - acc: 0.9188 - val_loss: 0.2325 - val_acc: 0.9173\n",
      "Epoch 6/10\n",
      "60000/60000 [==============================] - 138s 2ms/step - loss: 0.2083 - acc: 0.9245 - val_loss: 0.2237 - val_acc: 0.9213\n",
      "Epoch 7/10\n",
      "60000/60000 [==============================] - 140s 2ms/step - loss: 0.1980 - acc: 0.9273 - val_loss: 0.2239 - val_acc: 0.9207\n",
      "Epoch 8/10\n",
      "60000/60000 [==============================] - 140s 2ms/step - loss: 0.1871 - acc: 0.9303 - val_loss: 0.2179 - val_acc: 0.9219\n",
      "Epoch 9/10\n",
      "60000/60000 [==============================] - 141s 2ms/step - loss: 0.1776 - acc: 0.9354 - val_loss: 0.2219 - val_acc: 0.9229\n",
      "Epoch 10/10\n",
      "60000/60000 [==============================] - 140s 2ms/step - loss: 0.1703 - acc: 0.9379 - val_loss: 0.2336 - val_acc: 0.9202\n",
      "10000/10000 [==============================] - 4s 444us/step\n",
      "0.23360323844\n"
     ]
    }
   ],
   "source": [
    "model.fit(X_train, Y_train, batch_size = batch_size, epochs = epochs, verbose =1, validation_data = (X_test, Y_test) )\n",
    "score = model.evaluate(X_test, Y_test, verbose = 1)\n",
    "print(score[0])"
   ]
  },
  {
   "cell_type": "code",
   "execution_count": 29,
   "metadata": {},
   "outputs": [
    {
     "name": "stdout",
     "output_type": "stream",
     "text": [
      "acc :92.02%\n"
     ]
    }
   ],
   "source": [
    "print(\"%s :%.2f%%\" % (model.metrics_names[1], score[1]*100))"
   ]
  },
  {
   "cell_type": "code",
   "execution_count": 30,
   "metadata": {},
   "outputs": [
    {
     "name": "stdout",
     "output_type": "stream",
     "text": [
      "loss :0.23360\n"
     ]
    }
   ],
   "source": [
    "print(\"%s :%.5f\" %(model.metrics_names[0], score[0]))"
   ]
  },
  {
   "cell_type": "markdown",
   "metadata": {},
   "source": [
    "### Testing trained model from an input image of test dataset"
   ]
  },
  {
   "cell_type": "code",
   "execution_count": 38,
   "metadata": {},
   "outputs": [
    {
     "data": {
      "image/png": "[encoded data removed]",
      "text/plain": [
       "<matplotlib.figure.Figure at 0x264a3177320>"
      ]
     },
     "metadata": {},
     "output_type": "display_data"
    }
   ],
   "source": [
    "test_im = X_train[None, 1]\n",
    "plt.imshow(test_im.reshape(28,28), cmap='viridis', interpolation='none')\n",
    "plt.show() "
   ]
  },
  {
   "cell_type": "code",
   "execution_count": 39,
   "metadata": {
    "collapsed": true
   },
   "outputs": [],
   "source": [
    "p = model.predict_classes(test_im)"
   ]
  },
  {
   "cell_type": "code",
   "execution_count": 40,
   "metadata": {},
   "outputs": [
    {
     "name": "stdout",
     "output_type": "stream",
     "text": [
      "[9]\n"
     ]
    }
   ],
   "source": [
    "print(p)"
   ]
  },
  {
   "cell_type": "code",
   "execution_count": 41,
   "metadata": {},
   "outputs": [
    {
     "name": "stdout",
     "output_type": "stream",
     "text": [
      "The image is of a ankle boot\n"
     ]
    }
   ],
   "source": [
    "if p == 0:\n",
    "    print(\"The image is of a T-shirt/Top\")\n",
    "if p == 1:\n",
    "    print(\"The image is of a Trouser\")\n",
    "if p == 2:\n",
    "    print(\"The image is of a pullover\")\n",
    "if p == 3:\n",
    "    print(\"The image is of a dress\")\n",
    "if p == 4:\n",
    "    print(\"The image is of a coat\")\n",
    "if p == 5:\n",
    "    print(\"The image is of a sandal\")\n",
    "if p == 6:\n",
    "    print(\"The image is of a shirt\")\n",
    "if p == 7:\n",
    "    print(\"The image is of a sneaker\")\n",
    "if p == 8:\n",
    "    print(\"The image is of a bag\")\n",
    "if p == 9:\n",
    "    print(\"The image is of a ankle boot\") #assigned values as per instruction on kaggles webpage"
   ]
  },
  {
   "cell_type": "code",
   "execution_count": null,
   "metadata": {
    "collapsed": true
   },
   "outputs": [],
   "source": []
  }
 ],
 "metadata": {
  "kernelspec": {
   "display_name": "Python 3",
   "language": "python",
   "name": "python3"
  },
  "language_info": {
   "codemirror_mode": {
    "name": "ipython",
    "version": 3
   },
   "file_extension": ".py",
   "mimetype": "text/x-python",
   "name": "python",
   "nbconvert_exporter": "python",
   "pygments_lexer": "ipython3",
   "version": "3.6.4"
  }
 },
 "nbformat": 4,
 "nbformat_minor": 2
}
